{
 "cells": [
  {
   "cell_type": "markdown",
   "metadata": {},
   "source": [
    "# Uniaxial tension example\n",
    "\n",
    "---\n",
    "\n",
    "*Why is quantifying uncertainty important?* This notebook illustrates one answer: Designing safety-critical components in the presence of material and load condition variability. The presence of uncertainty can lead to unsafe designs. Rigorously quantifying the uncertainty can enable design with a known level of safety."
   ]
  },
  {
   "cell_type": "code",
   "execution_count": 1,
   "metadata": {},
   "outputs": [],
   "source": [
    "import grama as gr\n",
    "import numpy as np\n",
    "import pandas as pd\n",
    "import seaborn as sns\n",
    "\n",
    "from scipy.optimize import bisect"
   ]
  },
  {
   "cell_type": "markdown",
   "metadata": {},
   "source": [
    "## Deterministic Design\n",
    "\n",
    "Suppose we were tasked with designing a simple structure: a cable to hold up an elevator. If the material has strength $U$, cross-sectional area $A$, and applied load $F$, its *limit state function* is given by\n",
    "\n",
    "$$g_{\\text{tension}} = U - F/A.$$\n",
    "\n",
    "The structure survives its loading conditions when $g_{\\text{tension}} > 0$, and fails if $g_{\\text{tension}} \\leq 0$. We can encode this physical model in `py_grama` with the following code."
   ]
  },
  {
   "cell_type": "code",
   "execution_count": 2,
   "metadata": {},
   "outputs": [
    {
     "name": "stdout",
     "output_type": "stream",
     "text": [
      "model: None\n",
      "\n",
      "  inputs:\n",
      "    var_det:\n",
      "      A: [0.2, 0.4]\n",
      "      F: [50, 150]\n",
      "      U: [500, 700]\n",
      "    var_rand:\n",
      "    copula:\n",
      "        None\n",
      "  functions:\n",
      "    limit_state: ['U', 'F', 'A'] -> ['g_tension']\n"
     ]
    }
   ],
   "source": [
    "def limit_state(x):\n",
    "    U, F, A = x\n",
    "    return U - F/A\n",
    "\n",
    "md = gr.Model() >> \\\n",
    "    gr.cp_function(\n",
    "        fun=limit_state,\n",
    "        var=[\"U\", \"F\", \"A\"],\n",
    "        out=[\"g_tension\"]\n",
    "    ) >> \\\n",
    "    gr.cp_bounds(\n",
    "        U=(500, 700),\n",
    "        F=(50, 150),\n",
    "        A=(0.2, 0.4)\n",
    "    )\n",
    "md.printpretty()"
   ]
  },
  {
   "cell_type": "markdown",
   "metadata": {},
   "source": [
    "We will formulate design as an optimization problem. For the structure, we want to use as little material as possible while ensuring the structure does not fail. Mathematically, a **deterministic design** problem is given as\n",
    "\n",
    "$$\\begin{aligned} \\min_A\\, & A \\\\ \\text{s.t.}\\, & g_{\\text{tension}} > 0 \\end{aligned}$$\n",
    "\n",
    "Since this optimization problem is quite simple (it reduces to root finding), we can solve it with [bisection search](https://en.wikipedia.org/wiki/Bisection_method). We *arbitrarily select conditions for* $U, F$, and look for a sign change in $g_{\\text{tension}}$ to \"bracket\" our target value of $0$."
   ]
  },
  {
   "cell_type": "code",
   "execution_count": 3,
   "metadata": {},
   "outputs": [
    {
     "data": {
      "text/html": [
       "<div>\n",
       "<style scoped>\n",
       "    .dataframe tbody tr th:only-of-type {\n",
       "        vertical-align: middle;\n",
       "    }\n",
       "\n",
       "    .dataframe tbody tr th {\n",
       "        vertical-align: top;\n",
       "    }\n",
       "\n",
       "    .dataframe thead th {\n",
       "        text-align: right;\n",
       "    }\n",
       "</style>\n",
       "<table border=\"1\" class=\"dataframe\">\n",
       "  <thead>\n",
       "    <tr style=\"text-align: right;\">\n",
       "      <th></th>\n",
       "      <th>U</th>\n",
       "      <th>F</th>\n",
       "      <th>A</th>\n",
       "      <th>g_tension</th>\n",
       "    </tr>\n",
       "  </thead>\n",
       "  <tbody>\n",
       "    <tr>\n",
       "      <th>0</th>\n",
       "      <td>600</td>\n",
       "      <td>100</td>\n",
       "      <td>0.15</td>\n",
       "      <td>-66.666667</td>\n",
       "    </tr>\n",
       "    <tr>\n",
       "      <th>1</th>\n",
       "      <td>600</td>\n",
       "      <td>100</td>\n",
       "      <td>0.20</td>\n",
       "      <td>100.000000</td>\n",
       "    </tr>\n",
       "  </tbody>\n",
       "</table>\n",
       "</div>"
      ],
      "text/plain": [
       "     U    F     A   g_tension\n",
       "0  600  100  0.15  -66.666667\n",
       "1  600  100  0.20  100.000000"
      ]
     },
     "execution_count": 3,
     "metadata": {},
     "output_type": "execute_result"
    }
   ],
   "source": [
    "df_design = pd.DataFrame(dict(U=[600] * 2, F=[100] * 2, A=[0.15, 0.20]))\n",
    "\n",
    "gr.eval_df(md, df=df_design)"
   ]
  },
  {
   "cell_type": "markdown",
   "metadata": {},
   "source": [
    "The following convenience function will allow us to pass model results to `scipy.optimize.bisect`, which will carry out the root-finding."
   ]
  },
  {
   "cell_type": "code",
   "execution_count": 4,
   "metadata": {},
   "outputs": [
    {
     "data": {
      "text/plain": [
       "0.16666666666715174"
      ]
     },
     "execution_count": 4,
     "metadata": {},
     "output_type": "execute_result"
    }
   ],
   "source": [
    "def opt_deterministic(A):\n",
    "    df_res = gr.eval_df(md, df=pd.DataFrame(dict(U=[600], F=[100], A=[A])))\n",
    "    return df_res[\"g_tension\"].values[0]\n",
    "\n",
    "A_det = bisect(opt_deterministic, 0.15, 0.20)\n",
    "A_det"
   ]
  },
  {
   "cell_type": "markdown",
   "metadata": {},
   "source": [
    "This is our optimal cross-sectional area.\n",
    "\n",
    "However, remember that we had to *arbitrarily select conditions for* $U,F$! This should make any engineer *uncomfortable*, as we are adding no measure of safety to this design."
   ]
  },
  {
   "cell_type": "markdown",
   "metadata": {},
   "source": [
    "## Design Under Uncertainty\n",
    "\n",
    "The traditional way to add safety to a design is to add a safety factor. However, imagine instead that we had some characterization of the uncertainty in our variables: Below we add distributions for $U, F$ which characterize the variability the structure will see in service."
   ]
  },
  {
   "cell_type": "code",
   "execution_count": 10,
   "metadata": {},
   "outputs": [
    {
     "name": "stdout",
     "output_type": "stream",
     "text": [
      "model: None\n",
      "\n",
      "  inputs:\n",
      "    var_det:\n",
      "      A: [0.2, 0.4]\n",
      "    var_rand:\n",
      "      U: (+0) norm, {'loc': 600, 'scale': 60}\n",
      "      F: (+0) norm, {'loc': 100, 'scale': 10}\n",
      "    copula:\n",
      "        Independence copula\n",
      "  functions:\n",
      "    limit_state: ['U', 'F', 'A'] -> ['g_tension']\n"
     ]
    }
   ],
   "source": [
    "md_uncertain = \\\n",
    "    md >> \\\n",
    "    gr.cp_marginals(\n",
    "        U=dict(dist=\"norm\", loc=600, scale=60),\n",
    "        F=dict(dist=\"norm\", loc=100, scale=10)\n",
    "    ) >> \\\n",
    "    gr.cp_copula_independence()\n",
    "md_uncertain.printpretty()"
   ]
  },
  {
   "cell_type": "markdown",
   "metadata": {},
   "source": [
    "Now the model has both *deterministic* (`var_det`) and *random* (`var_rand`) variables. The random variables are no longer guaranteed to take particular values; rather than single evaluations of the model, we should consider *Monte Carlo sampling* of the model. Let's inspect what happens with the design `A_det` we computed above."
   ]
  },
  {
   "cell_type": "code",
   "execution_count": 11,
   "metadata": {},
   "outputs": [
    {
     "data": {
      "text/plain": [
       "<matplotlib.axes._subplots.AxesSubplot at 0x11d311b70>"
      ]
     },
     "execution_count": 11,
     "metadata": {},
     "output_type": "execute_result"
    },
    {
     "data": {
      "image/png": "[encoded data removed]",
      "text/plain": [
       "<Figure size 432x288 with 1 Axes>"
      ]
     },
     "metadata": {
      "needs_background": "light"
     },
     "output_type": "display_data"
    }
   ],
   "source": [
    "df_res = \\\n",
    "    md_uncertain >> \\\n",
    "    gr.ev_monte_carlo(n=500, df_det=pd.DataFrame(dict(A=[A_det])), seed=101) \n",
    "sns.distplot(df_res[\"g_tension\"])"
   ]
  },
  {
   "cell_type": "markdown",
   "metadata": {},
   "source": [
    "Note that about half the distribution of `g_tension` values lie below zero---these correspond to failed structures, so the safety of this design is only about $50\\%$! We could try to add a safety factor to bump up the safety. However, we can also directly *optimize* for a specified probability of failure. The following convenience function seeks a failure rate of $1\\%$, which we again pass to `scipy.optimize.bisect`."
   ]
  },
  {
   "cell_type": "code",
   "execution_count": 7,
   "metadata": {},
   "outputs": [
    {
     "data": {
      "text/plain": [
       "0.23278769564203686"
      ]
     },
     "execution_count": 7,
     "metadata": {},
     "output_type": "execute_result"
    }
   ],
   "source": [
    "def opt_duu(A):\n",
    "    df_mc = \\\n",
    "        md_uncertain >> \\\n",
    "        gr.ev_monte_carlo(n=500, df_det=pd.DataFrame({\"A\": [A]}), seed=101)\n",
    "    return np.quantile(df_mc[\"g_tension\"], 0.01)\n",
    "\n",
    "A_duu = bisect(opt_duu, 0.1, 0.3)\n",
    "A_duu"
   ]
  },
  {
   "cell_type": "markdown",
   "metadata": {},
   "source": [
    "Let's inspect the results for the new design `A_duu`."
   ]
  },
  {
   "cell_type": "code",
   "execution_count": 8,
   "metadata": {},
   "outputs": [
    {
     "data": {
      "text/plain": [
       "<matplotlib.axes._subplots.AxesSubplot at 0x1a1eb08250>"
      ]
     },
     "execution_count": 8,
     "metadata": {},
     "output_type": "execute_result"
    },
    {
     "data": {
      "image/png": "[encoded data removed]",
      "text/plain": [
       "<Figure size 432x288 with 1 Axes>"
      ]
     },
     "metadata": {
      "needs_background": "light"
     },
     "output_type": "display_data"
    }
   ],
   "source": [
    "df_res_duu = \\\n",
    "    md_uncertain >> \\\n",
    "    gr.ev_monte_carlo(n=500, df_det=pd.DataFrame({\"A\": [A_duu]}), seed=101)\n",
    "\n",
    "sns.distplot(df_res_duu[\"g_tension\"])"
   ]
  },
  {
   "cell_type": "markdown",
   "metadata": {},
   "source": [
    "The new design has a far lower rate of failure! By explicitly quantifying the uncertainty, we can seek greater precision in structural safety."
   ]
  }
 ],
 "metadata": {
  "kernelspec": {
   "display_name": "Python 3",
   "language": "python",
   "name": "python3"
  },
  "language_info": {
   "codemirror_mode": {
    "name": "ipython",
    "version": 3
   },
   "file_extension": ".py",
   "mimetype": "text/x-python",
   "name": "python",
   "nbconvert_exporter": "python",
   "pygments_lexer": "ipython3",
   "version": "3.7.2"
  }
 },
 "nbformat": 4,
 "nbformat_minor": 4
}
