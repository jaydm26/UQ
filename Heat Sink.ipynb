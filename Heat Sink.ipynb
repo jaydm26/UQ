{
 "cells": [
  {
   "cell_type": "code",
   "execution_count": 1,
   "metadata": {},
   "outputs": [],
   "source": [
    "import grama as gr\n",
    "import numpy as np\n",
    "import pandas as pd\n",
    "import seaborn as sb\n",
    "\n",
    "from scipy.optimize import bisect"
   ]
  },
  {
   "cell_type": "markdown",
   "metadata": {},
   "source": [
    "# Problem Statement:\n",
    "\n",
    "It is well-known that the electronics industry is pushing towards products with greater densities- from a consumer's perspective, more features packed in a thinner model, and from an engineer's perspective, more transistors in a smaller space.\n",
    "\n",
    "Moore's law predicts that by the year 2020, we will have ~5nm transistors on dense integrated circuits. While this is exciting news for computer hardware, one major concern is how to cool these incredibly dense systems so that they remain within operable conditions.\n",
    "\n",
    "One of the most common ways of cool electronic components is to stick a heat sink to the component and apply a forced flow."
   ]
  },
  {
   "cell_type": "markdown",
   "metadata": {},
   "source": [
    "To simplify the problem for current discussions, let us assume that our system has achieved steady state, and that the whole surface of the heat sink is exposed an average heat transfer coefficient, $\\bar{h}$.\n",
    "\n",
    "Mathematically, the problem is given by:\n",
    "\n",
    "<center>$Q = \\bar{h}A\\Delta T$</center>"
   ]
  },
  {
   "cell_type": "markdown",
   "metadata": {},
   "source": [
    "Q: Heat produced by the electronic component.\\\n",
    "h: Average heat transfer coefficient between the heat sink and air.\\\n",
    "A: Surface area of the heat sink exposed to air\\\n",
    "$\\Delta T$: Temperature difference between the heat sink and the ambient air."
   ]
  },
  {
   "cell_type": "markdown",
   "metadata": {},
   "source": [
    "After some gross over-simplifications, we can assume that the heat sink is at the same temperature as the electronic component. Let that temperature be T.\n",
    "\n",
    "From the specifications provided by the component manufacturer, the temperature of the component should not exceed $333.15K$. Further, from experimentation, it is determined that $Q \\sim N(40,4) mW$, and $\\bar{h} \\sim N(10,2) W/m^2K$ based on varying enviromental conditions. Ambient temperature is known to be $298.15K$, i.e. $T_{amb} = 298.15K$. The designer's objective is to find the heat sink area $A$, such that the device has 99% reliability. \n",
    "\n",
    "The deterministic way to solve the above problem would be to solve for $A$, assuming $\\Delta T = T_{max} - T_{amb}$."
   ]
  },
  {
   "cell_type": "code",
   "execution_count": 2,
   "metadata": {},
   "outputs": [
    {
     "name": "stdout",
     "output_type": "stream",
     "text": [
      "1.1428571428571428 cm²\n"
     ]
    }
   ],
   "source": [
    "Q = 4.0e-2\n",
    "h = 10.0\n",
    "T_amb = 298.15\n",
    "T_max = 333.15\n",
    "A_req = Q/h/(T_max-T_amb)\n",
    "print(A_req*1e4, \"cm\\N{SUPERSCRIPT TWO}\")"
   ]
  },
  {
   "cell_type": "markdown",
   "metadata": {},
   "source": [
    "At nominal conditions, the area of the heat sink is $\\approx1.1429cm^2$. To help us understand if a design is safe or not, let us introduce a limit state function. This function provides a positive value if the design is safe, and a negative value if it isn't."
   ]
  },
  {
   "cell_type": "code",
   "execution_count": 3,
   "metadata": {},
   "outputs": [],
   "source": [
    "def limit_state_function(Q,h,A,T_amb,T_max):\n",
    "    return T_max - (Q/h/A + T_amb)"
   ]
  },
  {
   "cell_type": "code",
   "execution_count": 4,
   "metadata": {},
   "outputs": [
    {
     "data": {
      "text/plain": [
       "0.0"
      ]
     },
     "execution_count": 4,
     "metadata": {},
     "output_type": "execute_result"
    }
   ],
   "source": [
    "limit_state_function(Q,h,A_req,T_amb,T_max)"
   ]
  },
  {
   "cell_type": "markdown",
   "metadata": {},
   "source": [
    "The above makes it clear that even for nominal conditions, the above design is just safe. Any deviation from the nominal condition on the worse side could lead to a failure.\n",
    "\n",
    "To allow for a safer design, engineers generally design for the worst case scenario, or include a factor of safety. Let us explore these two approaches."
   ]
  },
  {
   "cell_type": "markdown",
   "metadata": {},
   "source": [
    "## 1. Worst Case Scenario\n",
    "The worst case scenario approach is when you assume the inpu parameters are all against you, thus creating the worst case for your design. The underlying assumption here is that if the design can survive the worst case, it can survive under normal operating conditions.\n",
    "\n",
    "In the above scenario, since our input parameters are unbounded, we are unable to select a true worst case. But let us, for example, design for 3 standard deviations away from the mean. Thus,\n",
    "\n",
    "<center>$Q = 52 mW$</center>\n",
    "<center>$h = 4 W/m^2K$</center>"
   ]
  },
  {
   "cell_type": "code",
   "execution_count": 5,
   "metadata": {},
   "outputs": [
    {
     "name": "stdout",
     "output_type": "stream",
     "text": [
      "A: 3.7142857142857144 cm²\n"
     ]
    }
   ],
   "source": [
    "Q = 5.2e-2\n",
    "h = 4.0\n",
    "A1 = Q/h/(T_max-T_amb)\n",
    "print(\"A:\", A1*1e4, \"cm\\N{SUPERSCRIPT TWO}\")"
   ]
  },
  {
   "cell_type": "code",
   "execution_count": 6,
   "metadata": {},
   "outputs": [
    {
     "data": {
      "text/plain": [
       "24.230769230769226"
      ]
     },
     "execution_count": 6,
     "metadata": {},
     "output_type": "execute_result"
    }
   ],
   "source": [
    "limit_state_function(4.0e-2,10,A1,T_amb,T_max)"
   ]
  },
  {
   "cell_type": "markdown",
   "metadata": {},
   "source": [
    "While this makes the design extremely safe, it fails to offer us high product density (the area is more than tripled as compared to the nominal case)."
   ]
  },
  {
   "cell_type": "markdown",
   "metadata": {},
   "source": [
    "## 2. Factor of Safety Approach\n",
    "\n",
    "Looking at the problem from a factor of safety approach, we can define a factor of safety on top of the nominal conditions so as to make our designs safe. Let us assume this factor of safety is 1.5 on the heat generated (or 50% higher than the nominal condition)."
   ]
  },
  {
   "cell_type": "code",
   "execution_count": 7,
   "metadata": {},
   "outputs": [
    {
     "name": "stdout",
     "output_type": "stream",
     "text": [
      "A: 1.7142857142857142 cm²\n"
     ]
    }
   ],
   "source": [
    "Q = 1.5 * 4.0e-2\n",
    "h = 10.0\n",
    "A2 = Q/h/(T_max-T_amb)\n",
    "print(\"A:\", A2*1e4, \"cm\\N{SUPERSCRIPT TWO}\")"
   ]
  },
  {
   "cell_type": "code",
   "execution_count": 8,
   "metadata": {},
   "outputs": [
    {
     "data": {
      "text/plain": [
       "11.666666666666686"
      ]
     },
     "execution_count": 8,
     "metadata": {},
     "output_type": "execute_result"
    }
   ],
   "source": [
    "limit_state_function(4.0e-2,10,A2,T_amb,T_max)"
   ]
  },
  {
   "cell_type": "markdown",
   "metadata": {},
   "source": [
    "While the above is a better design than the worst-case scenario approach, it is still extremely safe$^1$.\n",
    "\n",
    "1: While the design is exmtremely safe for the above conditions through the factor of safety approach, it might not be the case always. The factor of safety approach would be most effective once the designer is fully aware of the variations in the input parameters."
   ]
  },
  {
   "cell_type": "markdown",
   "metadata": {},
   "source": [
    "## Introducing py_grama\n",
    "\n",
    "This above approaches for design can be swiftly captured using a new module called \"py_grama\", developed by Zachary del Rosario."
   ]
  },
  {
   "cell_type": "code",
   "execution_count": 9,
   "metadata": {},
   "outputs": [],
   "source": [
    "def limit_state_function(x):\n",
    "    Q, h, A = x\n",
    "    return T_max - (Q/h/A + T_amb)"
   ]
  },
  {
   "cell_type": "code",
   "execution_count": 10,
   "metadata": {},
   "outputs": [
    {
     "name": "stdout",
     "output_type": "stream",
     "text": [
      "model: None\n",
      "\n",
      "  inputs:\n",
      "    var_det:\n",
      "      h: [4, 16]\n",
      "      Q: [0.028, 0.052]\n",
      "      A: [1e-05, 0.001]\n",
      "    var_rand:\n",
      "    copula:\n",
      "        None\n",
      "  functions:\n",
      "    limit_state_function: ['Q', 'h', 'A'] -> ['g_t_max']\n"
     ]
    }
   ],
   "source": [
    "md = gr.Model() >> \\\n",
    "    gr.cp_function(\n",
    "        fun = limit_state_function,\n",
    "        var = [\"Q\", \"h\", \"A\"],\n",
    "        out = [\"g_t_max\"]\n",
    "    ) >> \\\n",
    "    gr.cp_bounds(\n",
    "        Q = (2.8e-2, 5.2e-2),\n",
    "        h = (4, 16),\n",
    "        A = (1e-5, 1e-3),\n",
    "    )\n",
    "md.printpretty()"
   ]
  },
  {
   "cell_type": "code",
   "execution_count": 11,
   "metadata": {},
   "outputs": [
    {
     "data": {
      "text/html": [
       "<div>\n",
       "<style scoped>\n",
       "    .dataframe tbody tr th:only-of-type {\n",
       "        vertical-align: middle;\n",
       "    }\n",
       "\n",
       "    .dataframe tbody tr th {\n",
       "        vertical-align: top;\n",
       "    }\n",
       "\n",
       "    .dataframe thead th {\n",
       "        text-align: right;\n",
       "    }\n",
       "</style>\n",
       "<table border=\"1\" class=\"dataframe\">\n",
       "  <thead>\n",
       "    <tr style=\"text-align: right;\">\n",
       "      <th></th>\n",
       "      <th>Q</th>\n",
       "      <th>h</th>\n",
       "      <th>A</th>\n",
       "      <th>g_t_max</th>\n",
       "    </tr>\n",
       "  </thead>\n",
       "  <tbody>\n",
       "    <tr>\n",
       "      <th>0</th>\n",
       "      <td>0.04</td>\n",
       "      <td>10.0</td>\n",
       "      <td>0.000371</td>\n",
       "      <td>24.230769</td>\n",
       "    </tr>\n",
       "    <tr>\n",
       "      <th>1</th>\n",
       "      <td>0.04</td>\n",
       "      <td>10.0</td>\n",
       "      <td>0.000171</td>\n",
       "      <td>11.666667</td>\n",
       "    </tr>\n",
       "  </tbody>\n",
       "</table>\n",
       "</div>"
      ],
      "text/plain": [
       "      Q     h         A    g_t_max\n",
       "0  0.04  10.0  0.000371  24.230769\n",
       "1  0.04  10.0  0.000171  11.666667"
      ]
     },
     "execution_count": 11,
     "metadata": {},
     "output_type": "execute_result"
    }
   ],
   "source": [
    "df_data = pd.DataFrame(dict(Q = [4.0e-2] * 2, h = [10.0] * 2, A=[A1,A2]))\n",
    "\n",
    "gr.eval_df(md, df = df_data)"
   ]
  },
  {
   "cell_type": "markdown",
   "metadata": {},
   "source": [
    "We can also find an optimum area for the design given the nominal conditions as inputs.\n",
    "\n",
    "Note: If $Q$ and $\\bar{h}$ are modified according to the design approach (Worst Case Scenario, or Factor of Safety), the correct optimum value for area is obtained for that approach."
   ]
  },
  {
   "cell_type": "code",
   "execution_count": 12,
   "metadata": {},
   "outputs": [
    {
     "name": "stdout",
     "output_type": "stream",
     "text": [
      "A_opt: 1.1428571326658128 cm²\n"
     ]
    }
   ],
   "source": [
    "def opt_det(A):\n",
    "    df_data2 = gr.eval_df(md, df=pd.DataFrame(dict(Q = [4e-2], h = [10], A=[A])))\n",
    "    return df_data2[\"g_t_max\"].values[0]\n",
    "\n",
    "A_opt = bisect(opt_det, 1e-5, 1e-3)\n",
    "print(\"A_opt:\", A_opt*1e4, \"cm\\N{SUPERSCRIPT TWO}\")"
   ]
  },
  {
   "cell_type": "markdown",
   "metadata": {},
   "source": [
    "# End of Deterministic Modelling"
   ]
  },
  {
   "cell_type": "markdown",
   "metadata": {},
   "source": [
    "As designers, it is upto us to make a design as dense as possible while maximizing reliablility. This is where Reliability Based Design Optimization (RBDO) comes in. RBDO is the process of optimizing design parameter(s) through an optimization procedure while ensuring that the reliability is above a certain threshold."
   ]
  },
  {
   "cell_type": "markdown",
   "metadata": {},
   "source": [
    "# Start of Design Under Uncertainty"
   ]
  },
  {
   "cell_type": "markdown",
   "metadata": {},
   "source": [
    "Let us start by using our previously defined deterministic model and make some changes to it to reflect the uncertainty in the problem."
   ]
  },
  {
   "cell_type": "code",
   "execution_count": 13,
   "metadata": {},
   "outputs": [
    {
     "name": "stdout",
     "output_type": "stream",
     "text": [
      "model: None\n",
      "\n",
      "  inputs:\n",
      "    var_det:\n",
      "      A: [1e-05, 0.001]\n",
      "    var_rand:\n",
      "      Q: (+0) norm, {'loc': 0.04, 'scale': 0.004}\n",
      "      h: (+0) norm, {'loc': 10, 'scale': 2}\n",
      "    copula:\n",
      "        Independence copula\n",
      "  functions:\n",
      "    limit_state_function: ['Q', 'h', 'A'] -> ['g_t_max']\n"
     ]
    }
   ],
   "source": [
    "md_uncertain = \\\n",
    "    md >> \\\n",
    "    gr.cp_marginals(\n",
    "        Q = dict(dist=\"norm\", loc=4e-2, scale=4e-3),\n",
    "        h = dict(dist=\"norm\", loc=10, scale=2)\n",
    "    ) >> \\\n",
    "    gr.cp_copula_independence() # Found in comp_building.py, not mentioned in docs.\n",
    "    \n",
    "md_uncertain.printpretty()"
   ]
  },
  {
   "cell_type": "markdown",
   "metadata": {},
   "source": [
    "Now, we have included the uncertainty of our input parameters in our model. Let us now conduct a Monte-Carlo simulation for the optimum design obtained above."
   ]
  },
  {
   "cell_type": "code",
   "execution_count": 14,
   "metadata": {
    "scrolled": true
   },
   "outputs": [
    {
     "name": "stdout",
     "output_type": "stream",
     "text": [
      "eval_monte_carlo() is rounding n...\n"
     ]
    },
    {
     "data": {
      "text/plain": [
       "<matplotlib.axes._subplots.AxesSubplot at 0x12713c208>"
      ]
     },
     "execution_count": 14,
     "metadata": {},
     "output_type": "execute_result"
    },
    {
     "data": {
      "image/png": "[encoded data removed]",
      "text/plain": [
       "<Figure size 432x288 with 1 Axes>"
      ]
     },
     "metadata": {
      "needs_background": "light"
     },
     "output_type": "display_data"
    }
   ],
   "source": [
    "df_res = \\\n",
    "    md_uncertain >> \\\n",
    "    gr.ev_monte_carlo(n=1e3, df_det=pd.DataFrame(dict(A=[A_opt])), seed=26) \n",
    "sb.distplot(df_res[\"g_t_max\"])"
   ]
  },
  {
   "cell_type": "markdown",
   "metadata": {},
   "source": [
    "While about half the designs created using the above technique are safe, the other half fail. This is not a good design. We can test this out for the other two methods also."
   ]
  },
  {
   "cell_type": "markdown",
   "metadata": {},
   "source": [
    "### Worst Case Scenario Approach"
   ]
  },
  {
   "cell_type": "code",
   "execution_count": 15,
   "metadata": {
    "scrolled": true
   },
   "outputs": [
    {
     "name": "stdout",
     "output_type": "stream",
     "text": [
      "eval_monte_carlo() is rounding n...\n"
     ]
    },
    {
     "data": {
      "text/plain": [
       "<matplotlib.axes._subplots.AxesSubplot at 0x12b333eb8>"
      ]
     },
     "execution_count": 15,
     "metadata": {},
     "output_type": "execute_result"
    },
    {
     "data": {
      "image/png": "[encoded data removed]",
      "text/plain": [
       "<Figure size 432x288 with 1 Axes>"
      ]
     },
     "metadata": {
      "needs_background": "light"
     },
     "output_type": "display_data"
    }
   ],
   "source": [
    "df_res = \\\n",
    "    md_uncertain >> \\\n",
    "    gr.ev_monte_carlo(n=1e3, df_det=pd.DataFrame(dict(A=[A1])), seed=26) \n",
    "sb.distplot(df_res[\"g_t_max\"])"
   ]
  },
  {
   "cell_type": "markdown",
   "metadata": {},
   "source": [
    "### Factor of Safety Approach"
   ]
  },
  {
   "cell_type": "code",
   "execution_count": 16,
   "metadata": {},
   "outputs": [
    {
     "name": "stdout",
     "output_type": "stream",
     "text": [
      "eval_monte_carlo() is rounding n...\n"
     ]
    },
    {
     "data": {
      "text/plain": [
       "<matplotlib.axes._subplots.AxesSubplot at 0x12b4d8d68>"
      ]
     },
     "execution_count": 16,
     "metadata": {},
     "output_type": "execute_result"
    },
    {
     "data": {
      "image/png": "[encoded data removed]",
      "text/plain": [
       "<Figure size 432x288 with 1 Axes>"
      ]
     },
     "metadata": {
      "needs_background": "light"
     },
     "output_type": "display_data"
    }
   ],
   "source": [
    "df_res = \\\n",
    "    md_uncertain >> \\\n",
    "    gr.ev_monte_carlo(n=1e3, df_det=pd.DataFrame(dict(A=[A2])), seed=26) \n",
    "sb.distplot(df_res[\"g_t_max\"])"
   ]
  },
  {
   "cell_type": "markdown",
   "metadata": {},
   "source": [
    "The Worst Case Scenario Approach produces extremely conservative designs, something that is undesirable in the age of high density products. The Factor of Safety Approach does not provide the desired reliability for the product. By choosing a higher Factor of Safety, we could create a better desigm.\n",
    "\n",
    "Regardless, we can otpimize the design to have high reliability (99%) while keeping area to a minimum."
   ]
  },
  {
   "cell_type": "code",
   "execution_count": 17,
   "metadata": {},
   "outputs": [
    {
     "name": "stdout",
     "output_type": "stream",
     "text": [
      "A_duu: 1.9679342741146684 cm²\n"
     ]
    }
   ],
   "source": [
    "def opt_duu(A):\n",
    "    df_mc = \\\n",
    "        md_uncertain >> \\\n",
    "        gr.ev_monte_carlo(n=500, df_det=pd.DataFrame({\"A\": [A]}), seed=5)\n",
    "    return np.quantile(df_mc[\"g_t_max\"], 1e-2)\n",
    "\n",
    "A_duu = bisect(opt_duu, 1e-5, 1e-3)\n",
    "print(\"A_duu:\", A_duu*1e4, \"cm\\N{SUPERSCRIPT TWO}\")"
   ]
  },
  {
   "cell_type": "markdown",
   "metadata": {},
   "source": [
    "The optimized value for area is $\\approx1.9680cm^2$. Testing this out on a Monte-Carlo simulation reveals that almost all designs (99%) lie within the safe limit, while also ensuring that the design is as dense as possible."
   ]
  },
  {
   "cell_type": "code",
   "execution_count": 18,
   "metadata": {},
   "outputs": [
    {
     "data": {
      "text/plain": [
       "<matplotlib.axes._subplots.AxesSubplot at 0x12b5b1668>"
      ]
     },
     "execution_count": 18,
     "metadata": {},
     "output_type": "execute_result"
    },
    {
     "data": {
      "image/png": "[encoded data removed]",
      "text/plain": [
       "<Figure size 432x288 with 1 Axes>"
      ]
     },
     "metadata": {
      "needs_background": "light"
     },
     "output_type": "display_data"
    }
   ],
   "source": [
    "df_res_duu = \\\n",
    "    md_uncertain >> \\\n",
    "    gr.ev_monte_carlo(n=500, df_det=pd.DataFrame({\"A\": [A_duu]}), seed=101)\n",
    "\n",
    "sb.distplot(df_res_duu[\"g_t_max\"])"
   ]
  }
 ],
 "metadata": {
  "@webio": {
   "lastCommId": null,
   "lastKernelId": null
  },
  "kernelspec": {
   "display_name": "Python 3",
   "language": "python",
   "name": "python3"
  },
  "language_info": {
   "codemirror_mode": {
    "name": "ipython",
    "version": 3
   },
   "file_extension": ".py",
   "mimetype": "text/x-python",
   "name": "python",
   "nbconvert_exporter": "python",
   "pygments_lexer": "ipython3",
   "version": "3.7.2"
  }
 },
 "nbformat": 4,
 "nbformat_minor": 2
}
